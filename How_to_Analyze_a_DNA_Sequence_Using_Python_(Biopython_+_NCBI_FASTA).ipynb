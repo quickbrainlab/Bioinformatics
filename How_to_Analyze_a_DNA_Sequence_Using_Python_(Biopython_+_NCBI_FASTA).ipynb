{
  "nbformat": 4,
  "nbformat_minor": 0,
  "metadata": {
    "colab": {
      "provenance": [],
      "authorship_tag": "ABX9TyPkQqGKu83NG3m9Ur6eO/8l",
      "include_colab_link": true
    },
    "kernelspec": {
      "name": "python3",
      "display_name": "Python 3"
    },
    "language_info": {
      "name": "python"
    }
  },
  "cells": [
    {
      "cell_type": "markdown",
      "metadata": {
        "id": "view-in-github",
        "colab_type": "text"
      },
      "source": [
        "<a href=\"https://colab.research.google.com/github/quickbrainlab/Data-Visualization-and-BioInformatic/blob/main/How_to_Analyze_a_DNA_Sequence_Using_Python_(Biopython_%2B_NCBI_FASTA).ipynb\" target=\"_parent\"><img src=\"https://colab.research.google.com/assets/colab-badge.svg\" alt=\"Open In Colab\"/></a>"
      ]
    },
    {
      "cell_type": "markdown",
      "source": [
        "**STEP-BY-STEP CODE TASKS**\n",
        "\n",
        "**Before running the code, upload your downloaded FASTA file to Google Colab.**"
      ],
      "metadata": {
        "id": "qf0UNG4N-Oa8"
      }
    },
    {
      "cell_type": "markdown",
      "source": [
        "**STEP1: Install and Import Biopython**"
      ],
      "metadata": {
        "id": "t6fqNpQC96gK"
      }
    },
    {
      "cell_type": "code",
      "execution_count": null,
      "metadata": {
        "colab": {
          "base_uri": "https://localhost:8080/"
        },
        "id": "_zRAKhuX3OUN",
        "outputId": "4cad8c48-8dbe-4f81-b647-2c0a733d66f8"
      },
      "outputs": [
        {
          "output_type": "stream",
          "name": "stdout",
          "text": [
            "Requirement already satisfied: biopython in /usr/local/lib/python3.11/dist-packages (1.85)\n",
            "Requirement already satisfied: numpy in /usr/local/lib/python3.11/dist-packages (from biopython) (2.0.2)\n"
          ]
        }
      ],
      "source": [
        "!pip install biopython\n",
        "from Bio import SeqIO\n",
        "from Bio.SeqUtils import gc_fraction"
      ]
    },
    {
      "cell_type": "markdown",
      "source": [
        "**STEP 2: Read The FASTA File**"
      ],
      "metadata": {
        "id": "YIU2kwVX9rt-"
      }
    },
    {
      "cell_type": "code",
      "source": [
        "file_path = \"/BRCA1.fasta\"\n",
        "\n",
        "for record in SeqIO.parse(file_path, \"fasta\"):\n",
        "    sequence = record.seq\n",
        "    print(\"Sequence ID:\", record.id)\n",
        "    print(\"Description:\", record.description)\n",
        "    print(\"Sequence Length:\", len(sequence))"
      ],
      "metadata": {
        "colab": {
          "base_uri": "https://localhost:8080/"
        },
        "id": "Jo_tTIzq5AU1",
        "outputId": "6cc20a7a-05a2-444c-9586-fadc935e2f21"
      },
      "execution_count": null,
      "outputs": [
        {
          "output_type": "stream",
          "name": "stdout",
          "text": [
            "Sequence ID: BRCA1\n",
            "Description: BRCA1 gene [Homo Sapiens]\n",
            "Sequence Length: 7088\n"
          ]
        }
      ]
    },
    {
      "cell_type": "markdown",
      "source": [
        "**STEP3: Count Nucleotide & GC Content**"
      ],
      "metadata": {
        "id": "n11ebg8V9alU"
      }
    },
    {
      "cell_type": "code",
      "source": [
        "a_count = sequence.count(\"A\")\n",
        "t_count = sequence.count(\"T\")\n",
        "g_count = sequence.count(\"G\")\n",
        "c_count = sequence.count(\"C\")\n",
        "\n",
        "print(\"A:\", a_count)\n",
        "print(\"T:\", t_count)\n",
        "print(\"G:\", g_count)\n",
        "print(\"C:\", c_count)\n",
        "print(\"GC Content (%):\", round(gc_fraction(sequence)*100, 2))"
      ],
      "metadata": {
        "colab": {
          "base_uri": "https://localhost:8080/"
        },
        "id": "6OMoSjlP659j",
        "outputId": "63882961-2c65-45c5-e60f-4fa96a3cb658"
      },
      "execution_count": null,
      "outputs": [
        {
          "output_type": "stream",
          "name": "stdout",
          "text": [
            "A: 2368\n",
            "T: 1759\n",
            "G: 1585\n",
            "C: 1376\n",
            "GC Content (%): 41.77\n"
          ]
        }
      ]
    },
    {
      "cell_type": "markdown",
      "source": [
        "**STEP4 :Check Start and Stop Codons (if CDS)**"
      ],
      "metadata": {
        "id": "KNeliNwx8yw3"
      }
    },
    {
      "cell_type": "code",
      "source": [
        "print(\"Start Codon:\", sequence[:3])\n",
        "print(\"Stop Codon:\", sequence[-3:])"
      ],
      "metadata": {
        "colab": {
          "base_uri": "https://localhost:8080/"
        },
        "id": "3hA8B_-i6_GV",
        "outputId": "a664ad2f-bbb0-4c67-8308-706dc2fc8920"
      },
      "execution_count": null,
      "outputs": [
        {
          "output_type": "stream",
          "name": "stdout",
          "text": [
            "Start Codon: GCT\n",
            "Stop Codon: CCA\n"
          ]
        }
      ]
    },
    {
      "cell_type": "markdown",
      "source": [
        "**STEP 5: Visualize Nucleotide Frequency**"
      ],
      "metadata": {
        "id": "FRjKwzYL8K60"
      }
    },
    {
      "cell_type": "code",
      "source": [
        "import matplotlib.pyplot as plt\n",
        "\n",
        "nucleotides = ['A', 'T', 'G', 'C']\n",
        "counts = [a_count, t_count, g_count, c_count]\n",
        "\n",
        "plt.bar(nucleotides, counts, color='mediumseagreen')\n",
        "plt.title(\"Nucleotide Frequency\")\n",
        "plt.xlabel(\"Nucleotides\")\n",
        "plt.ylabel(\"Count\")\n",
        "plt.show()"
      ],
      "metadata": {
        "colab": {
          "base_uri": "https://localhost:8080/",
          "height": 472
        },
        "id": "dAaOVKfR7NdL",
        "outputId": "106d358a-0094-456e-8d34-54c6bc82294d"
      },
      "execution_count": null,
      "outputs": [
        {
          "output_type": "display_data",
          "data": {
            "text/plain": [
              "<Figure size 640x480 with 1 Axes>"
            ],
            "image/png": "[encoded data removed]"
          },
          "metadata": {}
        }
      ]
    }
  ]
}