{
  "nbformat": 4,
  "nbformat_minor": 0,
  "metadata": {
    "colab": {
      "provenance": [],
      "authorship_tag": "ABX9TyMp8jAM6fJNADHtMs1fjbYm",
      "include_colab_link": true
    },
    "kernelspec": {
      "name": "python3",
      "display_name": "Python 3"
    },
    "language_info": {
      "name": "python"
    }
  },
  "cells": [
    {
      "cell_type": "markdown",
      "metadata": {
        "id": "view-in-github",
        "colab_type": "text"
      },
      "source": [
        "<a href=\"https://colab.research.google.com/github/quickbrainlab/Data-Visualization-and-BioInformatic/blob/main/protein_analysis_using_biopython.ipynb\" target=\"_parent\"><img src=\"https://colab.research.google.com/assets/colab-badge.svg\" alt=\"Open In Colab\"/></a>"
      ]
    },
    {
      "cell_type": "markdown",
      "source": [
        "**Protein Analysis Using Biopython**\n",
        "\n",
        "**FASTA file +Amino Acid Composition + GC Content**"
      ],
      "metadata": {
        "id": "QK6Qv7PtKDgL"
      }
    },
    {
      "cell_type": "markdown",
      "source": [
        "**STEP1:**\n",
        "\n",
        "Upload Fasta Sequence File On Google Colab"
      ],
      "metadata": {
        "id": "0LbwTVQ2Kepw"
      }
    },
    {
      "cell_type": "markdown",
      "source": [
        "**STEP2: Install Biopython**"
      ],
      "metadata": {
        "id": "dJmDVif_LO7G"
      }
    },
    {
      "cell_type": "code",
      "execution_count": null,
      "metadata": {
        "colab": {
          "base_uri": "https://localhost:8080/"
        },
        "id": "I5T8yQFPHU4j",
        "outputId": "44ac9b01-b4be-4b3b-82ce-cbe0fd5286cf"
      },
      "outputs": [
        {
          "output_type": "stream",
          "name": "stdout",
          "text": [
            "Collecting biopython\n",
            "  Downloading biopython-1.85-cp311-cp311-manylinux_2_17_x86_64.manylinux2014_x86_64.whl.metadata (13 kB)\n",
            "Requirement already satisfied: numpy in /usr/local/lib/python3.11/dist-packages (from biopython) (2.0.2)\n",
            "Downloading biopython-1.85-cp311-cp311-manylinux_2_17_x86_64.manylinux2014_x86_64.whl (3.3 MB)\n",
            "\u001b[?25l   \u001b[90m━━━━━━━━━━━━━━━━━━━━━━━━━━━━━━━━━━━━━━━━\u001b[0m \u001b[32m0.0/3.3 MB\u001b[0m \u001b[31m?\u001b[0m eta \u001b[36m-:--:--\u001b[0m\r\u001b[2K   \u001b[91m━━━━━━━━━━━━━━━━━━━\u001b[0m\u001b[90m╺\u001b[0m\u001b[90m━━━━━━━━━━━━━━━━━━━━\u001b[0m \u001b[32m1.6/3.3 MB\u001b[0m \u001b[31m47.4 MB/s\u001b[0m eta \u001b[36m0:00:01\u001b[0m\r\u001b[2K   \u001b[90m━━━━━━━━━━━━━━━━━━━━━━━━━━━━━━━━━━━━━━━━\u001b[0m \u001b[32m3.3/3.3 MB\u001b[0m \u001b[31m49.0 MB/s\u001b[0m eta \u001b[36m0:00:00\u001b[0m\n",
            "\u001b[?25hInstalling collected packages: biopython\n",
            "Successfully installed biopython-1.85\n"
          ]
        }
      ],
      "source": [
        "!pip install biopython"
      ]
    },
    {
      "cell_type": "markdown",
      "source": [
        "### **STEP3 : load your FASTA sequence**"
      ],
      "metadata": {
        "id": "8XDJIM6dLgmR"
      }
    },
    {
      "cell_type": "code",
      "source": [
        "from Bio import SeqIO\n",
        "\n",
        "file_path = \"/content/Insulin.fasta\"\n",
        "for record in SeqIO.parse(file_path, \"fasta\"):\n",
        "    sequence = record.seq\n",
        "    print(\"Sequence ID:\", record.id)\n",
        "    print(\"Description:\", record.description)\n",
        "    print(\"Length:\", len(sequence))"
      ],
      "metadata": {
        "colab": {
          "base_uri": "https://localhost:8080/"
        },
        "id": "0ubcCuQFKDMU",
        "outputId": "4b4fabd6-5834-46fb-cb05-45ef242072dc"
      },
      "execution_count": null,
      "outputs": [
        {
          "output_type": "stream",
          "name": "stdout",
          "text": [
            "Sequence ID: NP_001035835.1\n",
            "Description: NP_001035835.1 insulin, isoform 2 precursor [Homo sapiens]\n",
            "Length: 200\n"
          ]
        }
      ]
    },
    {
      "cell_type": "markdown",
      "source": [
        "**STEP 4: Basic Amino Acid Count**"
      ],
      "metadata": {
        "id": "Fn4IYyf4MuDl"
      }
    },
    {
      "cell_type": "code",
      "source": [
        "from collections import Counter\n",
        "aa_freq = Counter(str(sequence))\n",
        "print(\"Amino Acid Composition:\")\n",
        "for aa, count in sorted(aa_freq.items()):\n",
        "    print(f\"{aa}: {count}\")"
      ],
      "metadata": {
        "colab": {
          "base_uri": "https://localhost:8080/"
        },
        "id": "KcWKrjVJMuW_",
        "outputId": "1a731c61-76b4-4881-c7c1-7ad04a2c34e3"
      },
      "execution_count": null,
      "outputs": [
        {
          "output_type": "stream",
          "name": "stdout",
          "text": [
            "Amino Acid Composition:\n",
            "A: 24\n",
            "C: 5\n",
            "D: 5\n",
            "E: 13\n",
            "F: 5\n",
            "G: 15\n",
            "H: 3\n",
            "I: 2\n",
            "K: 1\n",
            "L: 23\n",
            "M: 2\n",
            "N: 3\n",
            "P: 22\n",
            "Q: 15\n",
            "R: 15\n",
            "S: 19\n",
            "T: 10\n",
            "V: 10\n",
            "W: 5\n",
            "Y: 3\n"
          ]
        }
      ]
    },
    {
      "cell_type": "markdown",
      "source": [
        "**STEP 5: GC Content (If applicable)**\n",
        "**For protein, GC content is not applicable.**\n",
        "\n",
        "**“GC content applies to DNA/RNA sequences, not proteins.”**"
      ],
      "metadata": {
        "id": "TqHyut6WNDRc"
      }
    },
    {
      "cell_type": "markdown",
      "source": [
        "**STEP6: Bonus:**\n",
        "**Visualize as a Bar Chart**"
      ],
      "metadata": {
        "id": "RUzP74Q8Nknr"
      }
    },
    {
      "cell_type": "code",
      "source": [
        "import matplotlib.pyplot as plt\n",
        "\n",
        "amino_acids = list(aa_freq.keys())\n",
        "counts = list(aa_freq.values())\n",
        "\n",
        "plt.figure(figsize=(10,5))\n",
        "plt.bar(amino_acids, counts, color='skyblue')\n",
        "plt.xlabel(\"Amino Acids\")\n",
        "plt.ylabel(\"Frequency\")\n",
        "plt.title(\"Amino Acid Composition\")\n",
        "plt.tight_layout()\n",
        "plt.show()"
      ],
      "metadata": {
        "colab": {
          "base_uri": "https://localhost:8080/",
          "height": 422
        },
        "id": "IpcsK8EhNCP0",
        "outputId": "63126704-d9c6-4ef2-ff83-42e5040971ff"
      },
      "execution_count": null,
      "outputs": [
        {
          "output_type": "display_data",
          "data": {
            "text/plain": [
              "<Figure size 1000x500 with 1 Axes>"
            ],
            "image/png": "[encoded data removed]"
          },
          "metadata": {}
        }
      ]
    }
  ]
}